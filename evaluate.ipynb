{
 "cells": [
  {
   "cell_type": "code",
   "execution_count": 3,
   "metadata": {},
   "outputs": [
    {
     "name": "stdout",
     "output_type": "stream",
     "text": [
      "Python score: 66.50850492390332 %\n",
      "JS score: 33.49149507609669 %\n"
     ]
    }
   ],
   "source": [
    "import pandas as pd\n",
    "\n",
    "\n",
    "data = pd.read_csv('output.csv')\n",
    "\n",
    "py_score = 0\n",
    "js_score = 0\n",
    "\n",
    "for i in range(len(data)):\n",
    "    if abs(data['Python code Similarity'][i] - data['label'][i]) < abs(data['TS code similarity'][i] - data['label'][i]):\n",
    "        py_score += 1\n",
    "    else:\n",
    "        js_score += 1\n",
    "\n",
    "print('Python score:', 100*py_score/len(data), '%')\n",
    "print('JS score:', 100*js_score/len(data), '%')\n"
   ]
  }
 ],
 "metadata": {
  "kernelspec": {
   "display_name": "base",
   "language": "python",
   "name": "python3"
  },
  "language_info": {
   "codemirror_mode": {
    "name": "ipython",
    "version": 3
   },
   "file_extension": ".py",
   "mimetype": "text/x-python",
   "name": "python",
   "nbconvert_exporter": "python",
   "pygments_lexer": "ipython3",
   "version": "3.11.4"
  }
 },
 "nbformat": 4,
 "nbformat_minor": 2
}
