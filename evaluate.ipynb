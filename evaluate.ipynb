{
 "cells": [
  {
   "cell_type": "code",
   "execution_count": 25,
   "metadata": {},
   "outputs": [
    {
     "name": "stdout",
     "output_type": "stream",
     "text": [
      "Python score: 67.42468328931466 %\n",
      "JS score: 32.57531671068535 %\n"
     ]
    }
   ],
   "source": [
    "import pandas as pd\n",
    "\n",
    "\n",
    "data = pd.read_csv('output.csv')\n",
    "\n",
    "py_score = 0\n",
    "js_score = 0\n",
    "\n",
    "## remove 2804th row\n",
    "data = data.drop(2804) \n",
    "data = data.reset_index(drop=True)\n",
    "\n",
    "for i in range(len(data)):\n",
    "    if abs(data['Python code Similarity'][i] - data['label'][i]) < abs(data['TS code similarity'][i] - data['label'][i]):\n",
    "        py_score += 1\n",
    "    else:\n",
    "        js_score += 1\n",
    "\n",
    "print('Python score:', 100*py_score/len(data), '%')\n",
    "print('JS score:', 100*js_score/len(data), '%')\n"
   ]
  },
  {
   "cell_type": "code",
   "execution_count": 31,
   "metadata": {},
   "outputs": [
    {
     "name": "stdout",
     "output_type": "stream",
     "text": [
      "Python average difference: 0.08389657862085212\n",
      "Python max difference: 0.925925925925926\n",
      "==========\n",
      "JS average difference: 0.11734538103090204\n",
      "JS max difference: 0.9166666666666666\n",
      "==========\n",
      "Average difference between Python and JS: 0.04417005435495516\n",
      "Max difference between Python and JS: 0.2564102564102564\n",
      "               ltable_item_name                       rtable_item_name  label  \\\n",
      "18837  Ống hít mũi hiệu Cây Búa  Axe Brand inhaler ( Lốc 6 ống x 1.7g)      1   \n",
      "\n",
      "       TS code similarity  Python code Similarity    Py_dif    JS_dif  \\\n",
      "18837            0.093023                0.074074  0.925926  0.906977   \n",
      "\n",
      "       Dif_PYJS  \n",
      "18837  0.018949  \n",
      "                    ltable_item_name               rtable_item_name  label  \\\n",
      "10772  NSM LISTERINE COOL MINT 750ML  Listerine NSM Cool Mint 750ml      0   \n",
      "\n",
      "       TS code similarity  Python code Similarity    Py_dif    JS_dif  \\\n",
      "10772            0.916667                0.892857  0.892857  0.916667   \n",
      "\n",
      "       Dif_PYJS  \n",
      "10772   0.02381  \n",
      "\n",
      "=====\n",
      "          ltable_item_name                 rtable_item_name  label  \\\n",
      "10190                VITPP     Vit PP 500mg (10Vi x 10Vien)      1   \n",
      "13111  SARA  SIRÔ CAM 60CC  PM Procare Diamond(Chai 30vien)      0   \n",
      "\n",
      "       TS code similarity  Python code Similarity    Py_dif    JS_dif  \\\n",
      "10190            0.333333                0.076923  0.923077  0.666667   \n",
      "13111            0.256410                0.000000  0.000000  0.256410   \n",
      "\n",
      "       Dif_PYJS  \n",
      "10190   0.25641  \n",
      "13111   0.25641  \n"
     ]
    }
   ],
   "source": [
    "data['Py_dif'] = abs(data['Python code Similarity'] - data['label'])\n",
    "data['JS_dif'] = abs(data['TS code similarity'] - data['label'])\n",
    "data['Dif_PYJS'] = abs(data['Python code Similarity'] - data['TS code similarity'])\n",
    "\n",
    "print('Python average difference:', data['Py_dif'].mean())\n",
    "print('Python max difference:', data['Py_dif'].max())\n",
    "print('==========\\nJS average difference:', data['JS_dif'].mean())\n",
    "print('JS max difference:', data['JS_dif'].max())\n",
    "print('==========\\nAverage difference between Python and JS:', data['Dif_PYJS'].mean())\n",
    "print('Max difference between Python and JS:', data['Dif_PYJS'].max())\n",
    "\n",
    "## View data with highest difference\n",
    "print(data[data['Py_dif'] == data['Py_dif'].max()])\n",
    "\n",
    "print(data[data['JS_dif'] == data['JS_dif'].max()])\n",
    "\n",
    "print('\\n=====')\n",
    "print(data[data['Dif_PYJS'] == data['Dif_PYJS'].max()])\n",
    "\n"
   ]
  }
 ],
 "metadata": {
  "kernelspec": {
   "display_name": "base",
   "language": "python",
   "name": "python3"
  },
  "language_info": {
   "codemirror_mode": {
    "name": "ipython",
    "version": 3
   },
   "file_extension": ".py",
   "mimetype": "text/x-python",
   "name": "python",
   "nbconvert_exporter": "python",
   "pygments_lexer": "ipython3",
   "version": "3.11.4"
  }
 },
 "nbformat": 4,
 "nbformat_minor": 2
}
