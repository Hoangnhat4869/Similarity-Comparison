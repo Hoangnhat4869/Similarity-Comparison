{
 "cells": [
  {
   "cell_type": "code",
   "execution_count": 13,
   "metadata": {},
   "outputs": [
    {
     "name": "stdout",
     "output_type": "stream",
     "text": [
      "Python score: 67.22023276633841 %\n",
      "JS score: 32.779767233661595 %\n"
     ]
    }
   ],
   "source": [
    "import pandas as pd\n",
    "\n",
    "\n",
    "data = pd.read_csv('output.csv')\n",
    "\n",
    "py_score = 0\n",
    "js_score = 0\n",
    "\n",
    "for i in range(len(data)):\n",
    "    if abs(data['Python code Similarity'][i] - data['label'][i]) < abs(data['TS code similarity'][i] - data['label'][i]):\n",
    "        py_score += 1\n",
    "    else:\n",
    "        js_score += 1\n",
    "\n",
    "print('Python score:', 100*py_score/len(data), '%')\n",
    "print('JS score:', 100*js_score/len(data), '%')\n"
   ]
  },
  {
   "cell_type": "code",
   "execution_count": 14,
   "metadata": {},
   "outputs": [
    {
     "name": "stdout",
     "output_type": "stream",
     "text": [
      "Python average difference: 0.0842124094681663\n",
      "Python max difference: 1.0\n",
      "JS average difference: 0.11738157532566011\n",
      "JS max difference: 0.925925925925926\n",
      "     ltable_item_name              rtable_item_name  label  \\\n",
      "2804         AVARINO;  LIVOLIN-FORTE( 3vi x 10vien)      1   \n",
      "\n",
      "      TS code similarity  Python code Similarity  Py_dif    JS_dif  \n",
      "2804            0.074074                     0.0     1.0  0.925926  \n",
      "     ltable_item_name              rtable_item_name  label  \\\n",
      "2804         AVARINO;  LIVOLIN-FORTE( 3vi x 10vien)      1   \n",
      "\n",
      "      TS code similarity  Python code Similarity  Py_dif    JS_dif  \n",
      "2804            0.074074                     0.0     1.0  0.925926  \n"
     ]
    }
   ],
   "source": [
    "data['Py_dif'] = abs(data['Python code Similarity'] - data['label'])\n",
    "data['JS_dif'] = abs(data['TS code similarity'] - data['label'])\n",
    "\n",
    "print('Python average difference:', data['Py_dif'].mean())\n",
    "print('Python max difference:', data['Py_dif'].max())\n",
    "print('JS average difference:', data['JS_dif'].mean())\n",
    "print('JS max difference:', data['JS_dif'].max())\n",
    "\n",
    "## View data with highest difference\n",
    "print(data[data['Py_dif'] == data['Py_dif'].max()])\n",
    "print(data[data['JS_dif'] == data['JS_dif'].max()])\n",
    "\n"
   ]
  }
 ],
 "metadata": {
  "kernelspec": {
   "display_name": "base",
   "language": "python",
   "name": "python3"
  },
  "language_info": {
   "codemirror_mode": {
    "name": "ipython",
    "version": 3
   },
   "file_extension": ".py",
   "mimetype": "text/x-python",
   "name": "python",
   "nbconvert_exporter": "python",
   "pygments_lexer": "ipython3",
   "version": "3.11.4"
  }
 },
 "nbformat": 4,
 "nbformat_minor": 2
}
